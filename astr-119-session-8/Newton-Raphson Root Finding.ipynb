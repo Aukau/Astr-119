{
 "cells": [
  {
   "cell_type": "code",
   "execution_count": 1,
   "id": "3e283f2e",
   "metadata": {},
   "outputs": [],
   "source": [
    "%matplotlib inline\n",
    "import matplotlib.pyplot as plt\n",
    "import numpy as np"
   ]
  },
  {
   "cell_type": "markdown",
   "id": "d6d496b2",
   "metadata": {},
   "source": [
    "# Defining a function for root finding"
   ]
  },
  {
   "cell_type": "code",
   "execution_count": 2,
   "id": "bab2bc18",
   "metadata": {},
   "outputs": [],
   "source": [
    "def function_for_root(x):\n",
    "    a = 1.01\n",
    "    b = -3.04\n",
    "    c = 2.07\n",
    "    return a*x**2 + b*x +c"
   ]
  },
  {
   "cell_type": "markdown",
   "id": "6e8ee76b",
   "metadata": {},
   "source": [
    "# Define the function's derivative"
   ]
  },
  {
   "cell_type": "code",
   "execution_count": 3,
   "id": "f6fee5ad",
   "metadata": {},
   "outputs": [],
   "source": [
    "def derivative_for_root(x):\n",
    "    a = 1.01\n",
    "    b = -3.04\n",
    "    return 2*x*x + b #just a generalisation of the quadratic derivative"
   ]
  },
  {
   "cell_type": "markdown",
   "id": "4e3a32a6",
   "metadata": {},
   "source": [
    "# Define a work function"
   ]
  },
  {
   "cell_type": "code",
   "execution_count": 6,
   "id": "ab866395",
   "metadata": {},
   "outputs": [],
   "source": [
    "def newton_raphson_root_finding(f, dfdx, x_start, tol):\n",
    "    \n",
    "    #this function will use newton_raphson search to find a root\n",
    "    \n",
    "    #setting a flag\n",
    "    flag = 1\n",
    "    \n",
    "    i = 0\n",
    "    imax = 10000\n",
    "    \n",
    "    #define the new and old guesses for the root\n",
    "    x_old = x_start\n",
    "    x_new = 0.0\n",
    "    y_new = 0.0\n",
    "    \n",
    "    #start the loop\n",
    "    while(flag):\n",
    "        #make a new guess\n",
    "        x_new = x_old - f(x_old)/dfdx(x_old)\n",
    "        \n",
    "        #print out the iteration\n",
    "        print(x_new, x_old, f(x_old), dfdx(x_old))\n",
    "        \n",
    "        #if the abs value of the new function value is < tol, then stop\n",
    "        y_new = f(x_new)\n",
    "        if(np.fabs(y_new)<tol):\n",
    "            flag = 0\n",
    "        else:\n",
    "            #save result\n",
    "            x_old = x_new\n",
    "            i += 1\n",
    "        \n",
    "        if(i>=imax):\n",
    "            printf(\"Max iterations reached.\")\n",
    "            raise StopIteration('Stopping iterations after ', i)\n",
    "            \n",
    "    #we are done\n",
    "    return x_new"
   ]
  },
  {
   "cell_type": "markdown",
   "id": "72945335",
   "metadata": {},
   "source": [
    "# Perform the search"
   ]
  },
  {
   "cell_type": "code",
   "execution_count": 8,
   "id": "e6787161",
   "metadata": {},
   "outputs": [
    {
     "name": "stdout",
     "output_type": "stream",
     "text": [
      "0.5 0.8024999999999998\n",
      "0.8159448818897637 0.5 0.8024999999999998 -2.54\n",
      "0.969270133085028 0.8159448818897637 0.26195126984003947 -1.7084678994357994\n",
      "1.0315408593108955 0.969270133085028 0.07229823222108944 -1.1610308182186644\n",
      "1.041227899382054 1.0315408593108955 0.008833097567016779 -0.9118469111442788\n",
      "1.0408427616609377 1.041227899382054 -0.000335720285363994 -0.8716889230968703\n",
      "1.0408716129246622 1.0408427616609377 2.5195597736615838e-05 -0.873292690996065\n",
      "1.0408694924358566 1.0408716129246622 -1.8515526618578804e-06 -0.8731725708152243\n",
      "Root found with y(1.040869) = 0.000000\n"
     ]
    }
   ],
   "source": [
    "x_start = 0.5\n",
    "tolerance = 1.0e-6\n",
    "\n",
    "#print the initial guess\n",
    "print(x_start, function_for_root(x_start))\n",
    "\n",
    "x_root = newton_raphson_root_finding(function_for_root, derivative_for_root, x_start, tolerance)\n",
    "y_root = function_for_root(x_root)\n",
    "\n",
    "s = \"Root found with y(%f) = %f\" % (x_root, y_root)\n",
    "print(s)"
   ]
  },
  {
   "cell_type": "markdown",
   "id": "7d3b5ac7",
   "metadata": {},
   "source": [
    "## The problem with this is that if a function's derivative is zero, the program will not work"
   ]
  }
 ],
 "metadata": {
  "kernelspec": {
   "display_name": "Python 3 (ipykernel)",
   "language": "python",
   "name": "python3"
  },
  "language_info": {
   "codemirror_mode": {
    "name": "ipython",
    "version": 3
   },
   "file_extension": ".py",
   "mimetype": "text/x-python",
   "name": "python",
   "nbconvert_exporter": "python",
   "pygments_lexer": "ipython3",
   "version": "3.9.7"
  }
 },
 "nbformat": 4,
 "nbformat_minor": 5
}
