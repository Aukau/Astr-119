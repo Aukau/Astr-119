{
 "cells": [
  {
   "cell_type": "markdown",
   "id": "b23284dc",
   "metadata": {},
   "source": [
    "# This is the Homework for Oct 21st\n",
    "## Its aim is to find the bisection roots"
   ]
  },
  {
   "cell_type": "code",
   "execution_count": 6,
   "id": "b2397181",
   "metadata": {},
   "outputs": [],
   "source": [
    "%matplotlib inline\n",
    "import numpy as np\n",
    "import matplotlib.pyplot as plt"
   ]
  },
  {
   "cell_type": "markdown",
   "id": "8dba30b6",
   "metadata": {},
   "source": [
    "# Define a function for which we'd like to find the roots"
   ]
  },
  {
   "cell_type": "code",
   "execution_count": 7,
   "id": "00a56ea9",
   "metadata": {},
   "outputs": [],
   "source": [
    "def function_for_roots(x):\n",
    "    a = 1.01\n",
    "    b = -3.04\n",
    "    c = 2.07\n",
    "    return a*x**2 + b*x + c #find the roots of the quadratic equation provided"
   ]
  },
  {
   "cell_type": "markdown",
   "id": "49e883ff",
   "metadata": {},
   "source": [
    "## We have defined a quadratic function (you could also input values later if you want to be fancy)"
   ]
  },
  {
   "cell_type": "code",
   "execution_count": 8,
   "id": "5f4c4967",
   "metadata": {},
   "outputs": [],
   "source": [
    "def check_initial_value(f, x_min, x_max, tol):\n",
    "    #check the initial guesses --> elaborate on tnhis\n",
    "    y_min = f(x_min)  #initialises the min value for y using the function with the x_min value\n",
    "    y_max = f(x_max)  #same with this one\n",
    "    \n",
    "    #check that x_min and x_max contain a crossing at 0 y value\n",
    "    if(y_min*y_max >= 0.0):  #If y_min*y_max is greater than or equal to zero\n",
    "                             #thenthere are no roots\n",
    "        print(\"There are no zero crossings in the range = \", x_min, x_max)\n",
    "        s = \"f(%f) = %f, f(%f) = %f\" % (x_min, y_min, x_max, y_max) #a lot to say here, make sure that you understand this\n",
    "        print(s)\n",
    "        return 0\n",
    "    \n",
    "    #if x_min is a root, then return flag == 1\n",
    "    if(np.fabs(y_min) < tol):\n",
    "        return 1  #a root has been found in this section (at y_min)\n",
    "    \n",
    "    #if x_max is a root, then return flag == 2\n",
    "    if(np.fabs(y_max) < tol):\n",
    "        return 2  #another root has been found (at y_max)\n",
    "    \n",
    "    #if we reach this point, then the bracket is valid\n",
    "    #thus we shall return 3\n",
    "    return 3 # allows to break out of the function"
   ]
  },
  {
   "cell_type": "code",
   "execution_count": 13,
   "id": "513f0c73",
   "metadata": {},
   "outputs": [],
   "source": [
    "def bisection_root_finding(f, x_min_start, x_max_start, tol):\n",
    "    # This section will use the bisection search to find the roots or root\n",
    "    x_min = x_min_start   #setting the beginning values of each\n",
    "    x_max = x_max_start\n",
    "    x_mid = 0.0\n",
    "    \n",
    "    y_min = f(x_min)\n",
    "    y_max = f(x_max)\n",
    "    y_mid = 0\n",
    "    \n",
    "    imax = 10000 #this is the max number of iterations\n",
    "    \n",
    "    \n",
    "    \n",
    "    #with this check, we will go through the initial values\n",
    "    flag = check_initial_value(f, x_min, x_max, tol) #takes a flag to check whether there are roots\n",
    "    \n",
    "    if(flag == 0):\n",
    "        print(\"Error in bisection_root_finding().\")\n",
    "        raise ValueError('Initial values invalid', x_min, x_max)\n",
    "    elif(flag == 1):\n",
    "        return x_min  #values of the roots\n",
    "    elif(flag == 2):\n",
    "        return x_max  #and again\n",
    "    \n",
    "    \n",
    "    \n",
    "    #we now need to conduction the search\n",
    "    \n",
    "    flag = 1  #resets the flag to perform another function\n",
    "    \n",
    "    while(flag):  #flag at 0 and 1 here are basically True and False values\n",
    "        x_mid = 0.5*(x_min + x_max)#midpoint formula\n",
    "        y_mid = f(x_mid)  #midpoint for the y value\n",
    "        \n",
    "        #time to check if x_mid is actually a root!\n",
    "        if(np.fabs(y_mid)<tol):#making the tol closer to values of 0, will increase the accuracy of the root\n",
    "            flag = 0  #because the flag is set to 0 it will break out of the program after a few more functions\n",
    "        else:\n",
    "            # in this scenario x_mid is not a root, as the absolute has not reached a value close enough to the tolerance value\n",
    "            \n",
    "            if(f(x_min)*f(x_mid) > 0): \n",
    "                x_min = x_mid\n",
    "                # this cycles to the next iteration of the bisection\n",
    "                # algorithm\n",
    "            else:\n",
    "                x_max = x_mid\n",
    "                \n",
    "        print(x_min, f(x_min), x_max, f(x_max))\n",
    "        i = 1  #this is required because apparently i cannot be immediately +='ed\n",
    "        i += 1\n",
    "        \n",
    "        # exiting the iteration if the max number has been reached\n",
    "        if(i >= imax):\n",
    "            print(\"Exceeded max number of iteration = \", i)\n",
    "            s = \"Min bracket f(%f) = %f\" % (x_min, f(x_min))\n",
    "            print(s)\n",
    "            s = \"Max bracket f(%f) = %f\" % (x_max, f(x_max))\n",
    "            print(s)\n",
    "            s = \"Mid bracket f(%f) = %f\" % (x_mid, f(x_mid))\n",
    "            print(s)\n",
    "            raise StopIteration('Stopping iterations after ', i)\n",
    "            \n",
    "    return x_mid"
   ]
  },
  {
   "cell_type": "code",
   "execution_count": 14,
   "id": "69f5370b",
   "metadata": {},
   "outputs": [
    {
     "name": "stdout",
     "output_type": "stream",
     "text": [
      "0.0 2.07\n",
      "1.5 -0.2175000000000007\n",
      "0.75 0.3581249999999996 1.5 -0.2175000000000007\n",
      "0.75 0.3581249999999996 1.125 -0.07171875000000005\n",
      "0.9375 0.10769531249999975 1.125 -0.07171875000000005\n",
      "1.03125 0.009111328124999485 1.125 -0.07171875000000005\n",
      "1.03125 0.009111328124999485 1.078125 -0.033522949218749876\n",
      "1.03125 0.009111328124999485 1.0546875 -0.012760620117187482\n",
      "1.03125 0.009111328124999485 1.04296875 -0.0019633483886720704\n",
      "1.037109375 0.0035393142700193003 1.04296875 -0.0019633483886720704\n",
      "1.0400390625 0.0007793140411376243 1.04296875 -0.0019633483886720704\n",
      "1.0400390625 0.0007793140411376243 1.04150390625 -0.0005941843986509987\n",
      "1.040771484375 9.202301502186927e-05 1.04150390625 -0.0005941843986509987\n",
      "1.040771484375 9.202301502186927e-05 1.0411376953125 -0.0002512161433698701\n",
      "1.040771484375 9.202301502186927e-05 1.04095458984375 -7.963042706249368e-05\n",
      "1.040863037109375 6.1878282573424315e-06 1.04095458984375 -7.963042706249368e-05\n",
      "1.040863037109375 6.1878282573424315e-06 1.0409088134765625 -3.6723415833161965e-05\n",
      "1.040863037109375 6.1878282573424315e-06 1.0408859252929688 -1.5268322895334308e-05\n",
      "1.040863037109375 6.1878282573424315e-06 1.0408744812011719 -4.540379595852073e-06\n",
      "1.040863037109375 6.1878282573424315e-06 1.0408744812011719 -4.540379595852073e-06\n",
      "Root found with y(1.040869) = 0.000001\n"
     ]
    }
   ],
   "source": [
    "x_min = 0.0\n",
    "x_max = 1.5\n",
    "tolerance  = 1.0e-6\n",
    "\n",
    "print(x_min, function_for_roots(x_min))\n",
    "print(x_max, function_for_roots(x_max))\n",
    "\n",
    "x_root = bisection_root_finding(function_for_roots, x_min, x_max, tolerance)\n",
    "y_root = function_for_roots(x_root)\n",
    "\n",
    "s = 'Root found with y(%f) = %f' % (x_root, y_root)\n",
    "print(s)"
   ]
  },
  {
   "cell_type": "code",
   "execution_count": null,
   "id": "62a28a2e",
   "metadata": {},
   "outputs": [],
   "source": []
  }
 ],
 "metadata": {
  "kernelspec": {
   "display_name": "Python 3 (ipykernel)",
   "language": "python",
   "name": "python3"
  },
  "language_info": {
   "codemirror_mode": {
    "name": "ipython",
    "version": 3
   },
   "file_extension": ".py",
   "mimetype": "text/x-python",
   "name": "python",
   "nbconvert_exporter": "python",
   "pygments_lexer": "ipython3",
   "version": "3.9.7"
  }
 },
 "nbformat": 4,
 "nbformat_minor": 5
}
