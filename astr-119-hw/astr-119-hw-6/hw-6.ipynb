{
 "cells": [
  {
   "cell_type": "markdown",
   "id": "4f558326",
   "metadata": {},
   "source": [
    "## Create a notebook to perform Cash-Karp integration for multiple coupled variables"
   ]
  },
  {
   "cell_type": "code",
   "execution_count": null,
   "id": "5c62a71a",
   "metadata": {},
   "outputs": [],
   "source": [
    "%matplotlib inline\n",
    "import matplotlib.pyplot as plt\n",
    "import numpy as np"
   ]
  },
  {
   "cell_type": "markdown",
   "id": "4a8743b4",
   "metadata": {},
   "source": [
    "## Define our coupled derivatives to integrate"
   ]
  },
  {
   "cell_type": "code",
   "execution_count": null,
   "id": "d1ac5a28",
   "metadata": {},
   "outputs": [],
   "source": [
    "def dydx(x, f):\n",
    "    #set the derivatives\n",
    "    \n",
    "    #our equation is d^2y/dx^2 = -y\n",
    "    \n",
    "    #so we can write\n",
    "    #dydx = z\n",
    "    #dzdx = -y\n",
    "    \n",
    "    y = f[0]\n",
    "    z = f[1]    #I don't get this fully\n",
    "    \n",
    "    #declare an array\n",
    "    y_derivs = np.zeros_like(f) #this requires _like because of its feature of giving actual values of 0 rather than system os based nulls\n",
    "    \n",
    "    #set dydx = z\n",
    "    y_derivs[0] = z\n",
    "    \n",
    "    #set dzdx = -y\n",
    "    y_derivs[1] = -1*y\n",
    "    \n",
    "    #here we have to return the array\n",
    "    return y_derivs"
   ]
  },
  {
   "cell_type": "markdown",
   "id": "e2c58750",
   "metadata": {},
   "source": [
    "## Define the Cash-Karp core function"
   ]
  },
  {
   "cell_type": "code",
   "execution_count": null,
   "id": "c120f710",
   "metadata": {},
   "outputs": [],
   "source": [
    "def cash_karp_core_mv(dydx, xi, yi, nv, h):\n",
    "    \n",
    "    #declare k# arrays (what are these? https://www.researchgate.net/profile/Proceso-Fernandez/publication/316007527/figure/fig1/AS:482085128413184@1491949459014/Butcher-Tableau-for-Cash-Karp.png)\n",
    "    kr = 7 #Row of 7\n",
    "    kc = 6 #Column of 6\n",
    "    \n",
    "    #declare the array for each section (Left of the vertical line, centre stage, or below the horizontal line)\n",
    "    l = np.zeros(kr)\n",
    "    c1 = np.zeros((kr, kc))\n",
    "    b1 = np.zeros(kr)\n",
    "    b2 = np.zeros(kr)\n",
    "    \n",
    "    #First part - Left of the verticle line (l) (0, 1/5, 3/10, 3/5, 1, 7/8)\n",
    "    l[1] = 1./5. #l[0] is ignored because it is already 0\n",
    "    l[2] = 3./10.\n",
    "    l[3] = 3./5.\n",
    "    l[4] = 1.\n",
    "    l[5] = 7./8.\n",
    "    \n",
    "    #Second part - Centre stage:\n",
    "    \n",
    "        #Column 1 (0, 1/5, 3/40, 3/10, -11/54, 1631/55296):\n",
    "    c1[2,1] = 1./5. #[0, 1; #] are ignored because 1 is 0 and we will iterate according to non-array rules i.e. 1-># not 0->#\n",
    "    c1[3,1] = 3./40.\n",
    "    c1[4,1] = 3./10.\n",
    "    c1[5,1] = -11./54.\n",
    "    c1[6,1] = 1631./55296.\n",
    "    \n",
    "        #Column 2 (0, 9/40, -9/10, 5/2, 175/512):\n",
    "    c1[3,2] = 9./40.\n",
    "    c1[4,2] = -9./10.\n",
    "    c1[5,2] = 5./2.\n",
    "    c1[6,2] = 175./512.\n",
    "    \n",
    "        #Column 3 (0, -70/27, 575/13824):\n",
    "    c1[4,3] = 6/5\n",
    "    c1[5,3] = -70/27\n",
    "    c1[6,3] = 575./13824.\n",
    "\n",
    "        #Column 4 (0, 35/27, 44275/110592):\n",
    "    c1[5,4] = 35./27.\n",
    "    c1[6,4] = 44275./110592.\n",
    "    \n",
    "        #Column FINAL (0, 253/4096):\n",
    "    c1[6,5] = 253./4096.\n",
    "    \n",
    "    ## The final column, just as the others, is already set to 0 ##\n",
    "    \n",
    "    #Third part - Lower stage:\n",
    "    \n",
    "        #Row 1 (37/378, 0, 250/621, 125/594, 0, 512/1771):\n",
    "    b1[1] = 37./378.\n",
    "    b1[2] = 0.\n",
    "    b1[3] = 250./621.\n",
    "    b1[4] = 125./594.\n",
    "    b1[5] = 0.\n",
    "    b1[6] = 512./1771.\n",
    "    \n",
    "        #Row 1 (2825/27648, 0, 18575/48384, 13525/55296, 277/14336, 1/4):\n",
    "    b2[1] = 2825./27648.\n",
    "    b2[2] = 0.\n",
    "    b2[3] = 18575./48384.\n",
    "    b2[4] = 13525./55296.\n",
    "    b2[5] = 277./14336.\n",
    "    b2[6] = 1./4.\n",
    "    \n",
    "    \n",
    "    #define the k array\n",
    "    ki = np.zeros((kr,nv)) #Create an 2D array for values along the Butcher Tableau for the Cash-Karp method along the length of the function\n",
    "    \n",
    "\n",
    "    #compute ki\n",
    "    for i in range(1, kr): #Iterating through each column or the value of each row depending on the given column\n",
    "        xn = xi + l[i]*h #****Iterate through values of x such that it corresponds with the given array value on the Left hand side of the verticle line\n",
    "        \n",
    "        yn = yi.copy() #****y values need to be reset each loop\n",
    "        for j in range(1, i):\n",
    "            yn += c1[i, j]*ki[j,:] #This line tells yn to add to itself (set before to be the initial y value given) the array value for each column\n",
    "            \n",
    "        ki[i,:] = h*dydx(xn, yn) #we are multiplying the function dydx (done previously) by the initial step value \"h\"\n",
    "        \n",
    "    #\n",
    "    ynpo = yi.copy()\n",
    "    ynpos = yi.copy()\n",
    "    \n",
    "    for i in range(1, kr): #this section iterates through the rows and gets the difference of the fourth and firth order solutions for Cash-Karp\n",
    "        ynpo += b1[i] * ki[i,:] #The first is the fourth order and the second is the fifth order\n",
    "        ynpos += b2[i] * ki[i,:] #in this section I used trial and error to find that the lower section gave values of are fourth and fifth order solutions, I got these from https://en.wikipedia.org/wiki/Cash%E2%80%93Karp_method\n",
    "        #These are needed to get an error value \"Delta\"\n",
    "        \n",
    "    #getting the error\n",
    "    Delta = np.fabs(ynpo-ynpos)\n",
    "    \n",
    "    return ynpo, Delta"
   ]
  },
  {
   "cell_type": "markdown",
   "id": "0b01331e",
   "metadata": {},
   "source": [
    "## Define an adaptive step size drive for Cash-Karp"
   ]
  },
  {
   "cell_type": "code",
   "execution_count": 162,
   "id": "7b19a167",
   "metadata": {},
   "outputs": [],
   "source": [
    "def cash_karp_mv_ad(dydx, xi, yi, nv, h, tol): #This code is pretty much all from the RK MV Method\n",
    "    \n",
    "    #define safety scale\n",
    "    SAFETY    = 0.9\n",
    "    H_NEW_FAC = 2.0\n",
    "    \n",
    "    #set a maximum number of iterations\n",
    "    imax = 1000\n",
    "    \n",
    "    #set an iteration variable\n",
    "    i = 0\n",
    "    \n",
    "    #create an error\n",
    "    Delta = np.full(nv, 2*tol)\n",
    "    \n",
    "    #remember the step\n",
    "    h_step = h\n",
    "    \n",
    "    #adjust step\n",
    "    while(Delta.max()/tol > 1.0):\n",
    "        #We need to get the return values of the function cash_karp_core_mv()\n",
    "        yipo, Delta = cash_karp_core_mv(dydx, xi, yi, nv, h_step) #Delta is the main value that we want, because that's what defines the new step value\n",
    "        \n",
    "        #if the error is too large, take a smaller step\n",
    "        if(Delta.max()/tol > 1.0):\n",
    "            \n",
    "            #our error is too large, decrease the step\n",
    "            h_step *= SAFETY * (Delta.max()/tol)**(-0.25)\n",
    "            \n",
    "        #check the iteration\n",
    "        if (i >= imax):\n",
    "            print(\"Too many iterations in cash_karp_mv_ad()\")\n",
    "            raise StopIteration(\"Ending after i = \", i)\n",
    "            \n",
    "        #iterate\n",
    "        i += 1\n",
    "        \n",
    "    #next time we should try to make a bigger step\n",
    "    h_new = np.fmin(h_step * (Delta.max()/tol)**(-0.9), h_step*H_NEW_FAC)\n",
    "    \n",
    "    #return the answer, a new step, and the step we actually took\n",
    "    return yipo, h_new, h_step"
   ]
  },
  {
   "cell_type": "markdown",
   "id": "0e1dd017",
   "metadata": {},
   "source": [
    "## Define a wrapper for Cash-Karp"
   ]
  },
  {
   "cell_type": "code",
   "execution_count": 163,
   "id": "67f50627",
   "metadata": {},
   "outputs": [],
   "source": [
    "def cash_karp_mv(dfdx, a, b, y_a, tol): #Most of this code was from the RK mv program as well\n",
    "    \n",
    "    #dfdx is the derivative with respect to x\n",
    "    #a is the lower bound\n",
    "    #b is the upper bound\n",
    "    #y_a are the boundary conditions\n",
    "    #tol is the tolerance for integrating y\n",
    "    \n",
    "    #define our starting step\n",
    "    xi = a\n",
    "    yi = y_a.copy()\n",
    "    \n",
    "    #an initial step size == make very teeny weeny!\n",
    "    h = 1.0e-4 * (b-a)\n",
    "    \n",
    "    #set a maximum number of iterations\n",
    "    imax = 1000\n",
    "    \n",
    "    #set an iteration variable\n",
    "    i = 0\n",
    "    \n",
    "    #set the number of coupled odes to the size of y_a\n",
    "    nv = len(y_a)\n",
    "    \n",
    "    #set the intial conditions\n",
    "    x = np.full(1, a)\n",
    "    y = np.full((1, nv), y_a)\n",
    "    \n",
    "    #set a flag\n",
    "    flag = 1\n",
    "    \n",
    "    #loop until we reach the right side\n",
    "    while(flag):\n",
    "        \n",
    "        #calculate y_i+1\n",
    "        yi_new, h_new, h_step = cash_karp_mv_ad(dydx, xi, yi, nv, h, tol)\n",
    "        \n",
    "        #update the step\n",
    "        h = h_new\n",
    "        \n",
    "        #prevent an overshoot\n",
    "        if(xi + h_step > b):\n",
    "            #take a smaller step\n",
    "            h = b - xi\n",
    "            \n",
    "            #recalculate y_i + 1\n",
    "            yi_new, h_new, h_step = cash_karp_mv_ad(dydx, xi, yi, nv, h, tol) #This one here uses the new value of \"h\" (the step value)\n",
    "            \n",
    "            #break\n",
    "            flag = 0\n",
    "            \n",
    "        #update values\n",
    "        xi += h_step\n",
    "        yi[:] = yi_new.copy() #there might be an issue here\n",
    "        \n",
    "        #add the step to the arrays\n",
    "        x = np.append(x, xi)\n",
    "        yi_new = np.zeros((len(x), nv))\n",
    "        yi_new[0:len(x) - 1, :] = y[:]\n",
    "        yi_new[-1, :] = yi[:]\n",
    "        del y\n",
    "        y = yi_new\n",
    "        \n",
    "        #prevent too many iterations\n",
    "        if(i >= imax):\n",
    "            print(\"Maximum iterations reached.\")\n",
    "            raise StopIteration(\"Iteration number = \", i)\n",
    "            \n",
    "        #iterate\n",
    "        i += 1\n",
    "        \n",
    "        #output some information - not that important, just took from the RK mv program\n",
    "        s = \"i = %3d\\tx = %9.8f\\th = %9.8f\\tb=%9.8f\" % (i, xi, h_step, b)\n",
    "        print(s)\n",
    "        \n",
    "        #break if new xi is == b\n",
    "        if(xi == b):\n",
    "            flag = 0\n",
    "            \n",
    "    #return the answer\n",
    "    return x,y"
   ]
  },
  {
   "cell_type": "markdown",
   "id": "9977396f",
   "metadata": {},
   "source": [
    "## Perform the integration"
   ]
  },
  {
   "cell_type": "code",
   "execution_count": 164,
   "id": "2f6db002",
   "metadata": {},
   "outputs": [
    {
     "name": "stdout",
     "output_type": "stream",
     "text": [
      "[0. 0.]\n",
      "[0. 1.]\n",
      "i =   1\tx = 0.00062832\th = 0.00062832\tb=6.28318531\n",
      "i =   2\tx = 0.00188496\th = 0.00125664\tb=6.28318531\n",
      "i =   3\tx = 0.00439823\th = 0.00251327\tb=6.28318531\n",
      "i =   4\tx = 0.00942478\th = 0.00502655\tb=6.28318531\n",
      "i =   5\tx = 0.01947787\th = 0.01005310\tb=6.28318531\n",
      "i =   6\tx = 0.03958407\th = 0.02010619\tb=6.28318531\n",
      "i =   7\tx = 0.07979645\th = 0.04021239\tb=6.28318531\n",
      "i =   8\tx = 0.16022123\th = 0.08042477\tb=6.28318531\n",
      "i =   9\tx = 0.32107077\th = 0.16084954\tb=6.28318531\n",
      "i =  10\tx = 0.64276986\th = 0.32169909\tb=6.28318531\n",
      "i =  11\tx = 0.93739384\th = 0.29462398\tb=6.28318531\n",
      "i =  12\tx = 1.20675386\th = 0.26936002\tb=6.28318531\n",
      "i =  13\tx = 1.49426997\th = 0.28751611\tb=6.28318531\n",
      "i =  14\tx = 1.76344767\th = 0.26917769\tb=6.28318531\n",
      "i =  15\tx = 2.03076151\th = 0.26731385\tb=6.28318531\n",
      "i =  16\tx = 2.29758389\th = 0.26682237\tb=6.28318531\n",
      "i =  17\tx = 2.56844699\th = 0.27086310\tb=6.28318531\n",
      "i =  18\tx = 2.84768738\th = 0.27924039\tb=6.28318531\n",
      "i =  19\tx = 3.12869484\th = 0.28100745\tb=6.28318531\n",
      "i =  20\tx = 3.39732623\th = 0.26863139\tb=6.28318531\n",
      "i =  21\tx = 3.66411066\th = 0.26678443\tb=6.28318531\n",
      "i =  22\tx = 3.93155133\th = 0.26744067\tb=6.28318531\n",
      "i =  23\tx = 4.20391433\th = 0.27236300\tb=6.28318531\n",
      "i =  24\tx = 4.48601277\th = 0.28209844\tb=6.28318531\n",
      "i =  25\tx = 4.76275451\th = 0.27674175\tb=6.28318531\n",
      "i =  26\tx = 5.03073667\th = 0.26798215\tb=6.28318531\n",
      "i =  27\tx = 5.29729916\th = 0.26656249\tb=6.28318531\n",
      "i =  28\tx = 5.56553774\th = 0.26823858\tb=6.28318531\n",
      "i =  29\tx = 5.83966631\th = 0.27412857\tb=6.28318531\n",
      "i =  30\tx = 6.12503238\th = 0.28536607\tb=6.28318531\n",
      "i =  31\tx = 6.28318531\th = 0.15815293\tb=6.28318531\n"
     ]
    },
    {
     "data": {
      "text/plain": [
       "<matplotlib.legend.Legend at 0x1c8854f4f10>"
      ]
     },
     "execution_count": 164,
     "metadata": {},
     "output_type": "execute_result"
    },
    {
     "data": {
      "image/png": "[encoded data removed]",
      "text/plain": [
       "<Figure size 432x288 with 1 Axes>"
      ]
     },
     "metadata": {
      "needs_background": "light"
     },
     "output_type": "display_data"
    }
   ],
   "source": [
    "a = 0.0\n",
    "b = 2.0 * np.pi\n",
    "\n",
    "y_0 = np.zeros(2)\n",
    "print(y_0) #debugging\n",
    "y_0[0] = 0.0\n",
    "y_0[1] = 1.0\n",
    "print(y_0) #debugging\n",
    "nv = 2\n",
    "\n",
    "tolerance = 1.0e-6\n",
    "\n",
    "#perform the integration\n",
    "x,y = cash_karp_mv(dydx, a, b, y_0, tolerance)\n",
    "plt.plot(x, y[:,0], 'o', label='y(x)')\n",
    "plt.plot(x, y[:,1], 'o', label='z(x)')\n",
    "plt.plot(x, np.sin(x), label='sin(x)')\n",
    "plt.plot(x, np.cos(x), label='cos(x)')\n",
    "plt.xlabel('x')\n",
    "plt.ylabel('y, dy/dx')\n",
    "plt.xlim([0, 2*np.pi])\n",
    "plt.ylim([-1.2, 1.2])\n",
    "plt.legend(frameon=False)"
   ]
  },
  {
   "cell_type": "code",
   "execution_count": 165,
   "id": "fa148506",
   "metadata": {},
   "outputs": [
    {
     "data": {
      "text/plain": [
       "<matplotlib.legend.Legend at 0x1c885567310>"
      ]
     },
     "execution_count": 165,
     "metadata": {},
     "output_type": "execute_result"
    },
    {
     "data": {
      "image/png": "[encoded data removed]",
      "text/plain": [
       "<Figure size 432x288 with 1 Axes>"
      ]
     },
     "metadata": {
      "needs_background": "light"
     },
     "output_type": "display_data"
    }
   ],
   "source": [
    "sine = np.sin(x)\n",
    "cosine = np.cos(x)\n",
    "\n",
    "y_error = (y[:, 0] - sine)\n",
    "dydx_error = (y[:, 1] - cosine)\n",
    "\n",
    "plt.plot(x, y_error, label=\"y(x) Error\")\n",
    "plt.plot(x, dydx_error, label=\"dydx(x) Error\")\n",
    "plt.legend(frameon=False)"
   ]
  },
  {
   "cell_type": "markdown",
   "id": "9a11027d",
   "metadata": {},
   "source": [
    "## This was a pain to figure out, but totally worth it, hopefully I have extensive enough commen"
   ]
  }
 ],
 "metadata": {
  "kernelspec": {
   "display_name": "Python 3 (ipykernel)",
   "language": "python",
   "name": "python3"
  },
  "language_info": {
   "codemirror_mode": {
    "name": "ipython",
    "version": 3
   },
   "file_extension": ".py",
   "mimetype": "text/x-python",
   "name": "python",
   "nbconvert_exporter": "python",
   "pygments_lexer": "ipython3",
   "version": "3.9.5"
  }
 },
 "nbformat": 4,
 "nbformat_minor": 5
}
