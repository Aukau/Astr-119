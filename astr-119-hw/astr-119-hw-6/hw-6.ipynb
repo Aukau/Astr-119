{
 "cells": [
  {
   "cell_type": "markdown",
   "id": "4f558326",
   "metadata": {},
   "source": [
    "## Create a notebook to perform Runge-Kutta integration for multiple coupled variables"
   ]
  },
  {
   "cell_type": "code",
   "execution_count": 25,
   "id": "5c62a71a",
   "metadata": {},
   "outputs": [],
   "source": [
    "%matplotlib inline\n",
    "import matplotlib.pyplot as plt\n",
    "import numpy as np"
   ]
  },
  {
   "cell_type": "markdown",
   "id": "4a8743b4",
   "metadata": {},
   "source": [
    "## Define our coupled derivatives to integrate"
   ]
  },
  {
   "cell_type": "code",
   "execution_count": 26,
   "id": "d1ac5a28",
   "metadata": {},
   "outputs": [],
   "source": [
    "def dfdx(x, f):\n",
    "    \n",
    "    y = f[0]\n",
    "    z = f[1]\n",
    "    \n",
    "    #return the derivatives\n",
    "    dydx = np.zeros_like(f)\n",
    "    dydx[0] = z\n",
    "    dydx[1] = -1*y\n",
    "    \n",
    "    return dydx"
   ]
  },
  {
   "cell_type": "markdown",
   "id": "e2c58750",
   "metadata": {},
   "source": [
    "## Define the cash carp core function for multivariables"
   ]
  },
  {
   "cell_type": "code",
   "execution_count": 32,
   "id": "c120f710",
   "metadata": {},
   "outputs": [],
   "source": [
    "def cash_karp_core_mv(x_i, y_i, nv, h, f):\n",
    "    \n",
    "    #declare k# arrays\n",
    "    \n",
    "    ni = 7\n",
    "    nj = 6\n",
    "    ci = np.zeros(ni)\n",
    "    aij = np.zeros((ni, nj))\n",
    "    bi = np.zeros(ni)\n",
    "    bis = np.zeros(ni)\n",
    "    \n",
    "    ci[2] = 1./5.\n",
    "    ci[3] = 3./10.\n",
    "    ci[4] = 3./5.\n",
    "    ci[5] = 1.\n",
    "    ci[6] = 7./8.\n",
    "    \n",
    "    aij[2,1] = 1./5.\n",
    "    aij[3,1] = 3./40.\n",
    "    aij[4,1] = 3./10.\n",
    "    aij[5,1] = -11./54.\n",
    "    aij[6,1] = 1631./55296.\n",
    "    \n",
    "    aij[3,2] = 9./40.\n",
    "    aij[4,2] = -9./10.\n",
    "    aij[5,2] = 5./2.\n",
    "    aij[6,2] = 175./512.\n",
    "    \n",
    "    aij[4,3] = 6./5.\n",
    "    aij[5,3] = -70./27.\n",
    "    aij[6,3] = 575./13824.\n",
    "    \n",
    "    aij[5,4] = 35./27.\n",
    "    aij[6,4] = 44275./110592.\n",
    "    \n",
    "    aij[6,4] = 253./4096.\n",
    "    \n",
    "    bi[1] = 37./378.\n",
    "    bi[2] = 0.\n",
    "    bi[3] = 250./621.\n",
    "    bi[4] = 125./594.\n",
    "    bi[5] = 0.\n",
    "    bi[6] = 512./1771.\n",
    "    \n",
    "    bis[1] = 2825./27648.\n",
    "    bis[2] = 0.\n",
    "    bis[3] = 18575./48384\n",
    "    bis[4] = 13525./55296\n",
    "    bis[5] = 277./14336.\n",
    "    bis[6] = 1./4.\n",
    "    \n",
    "    #defining k array\n",
    "    ki = np.zeros((ni,nv))\n",
    "    \n",
    "    #compute ki\n",
    "    for i in range(1, ni):\n",
    "        xn = x_i + ci[i]*h\n",
    "        \n",
    "        yn = y_i.copy()\n",
    "        for j in range(1, i):\n",
    "            yn += aij[i, j]*ki[j,:]\n",
    "            \n",
    "        ki[i,:] = h*f(xn, yn)\n",
    "        \n",
    "    ynpo = y_i.copy()\n",
    "    ynpos = y_i.copy()\n",
    "    \n",
    "    for i in range(1, ni):\n",
    "        ynpo += bi[i] * ki[i,:]\n",
    "        ynpos += bis[i] * ki[i,:]\n",
    "        \n",
    "    #getting the error\n",
    "    Delta = np.fabs(ynpo-ynpos)\n",
    "    \n",
    "    return ynpo, Delta"
   ]
  },
  {
   "cell_type": "markdown",
   "id": "0b01331e",
   "metadata": {},
   "source": [
    "## Define an adaptive step size drive for the cash karp method"
   ]
  },
  {
   "cell_type": "code",
   "execution_count": 33,
   "id": "7b19a167",
   "metadata": {},
   "outputs": [],
   "source": [
    "def cash_karp_mv_ad(dfdx, x_i, y_i, nv, h, tol):\n",
    "    \n",
    "    #define safety scale\n",
    "    SAFETY    = 0.9\n",
    "    H_NEW_FAC = 2.0\n",
    "    \n",
    "    #set a maximum number of iterations\n",
    "    imax = 1000\n",
    "    \n",
    "    #set an iteration variable\n",
    "    i = 0\n",
    "    \n",
    "    #create an error\n",
    "    Delta = np.full(nv, 2*tol)\n",
    "    \n",
    "    #remember the step\n",
    "    h_step = h\n",
    "    \n",
    "    #adjust step\n",
    "    while(Delta.max()/tol > 1.0):\n",
    "        \n",
    "        y_ipo, Delta = cash_karp_core_mv(x_i, y_i, nv, h_step, dfdx)\n",
    "        \n",
    "        #if the error is too large, take a smaller step\n",
    "        if(Delta.max()/tol > 1.0):\n",
    "            \n",
    "            #our error is too large, decrease the step\n",
    "            h_step *= SAFETY * (Delta.max()/tol)**(-0.25)\n",
    "            \n",
    "        #check the iteration\n",
    "        if (i >= imax):\n",
    "            print(\"Too many iterations in rk4_mv_ad()\")\n",
    "            raise StopIteration(\"Ending after i = \", i)\n",
    "            \n",
    "        #iterate\n",
    "        i += 1\n",
    "        \n",
    "    #next time we should try to make a bigger step\n",
    "    h_new = np.fmin(h_step * (Delta.max()/tol)**(-0.9), h_step*H_NEW_FAC)\n",
    "    \n",
    "    #return the answer, a new step, and the step we actually took\n",
    "    return y_ipo, h_new, h_step"
   ]
  },
  {
   "cell_type": "markdown",
   "id": "0e1dd017",
   "metadata": {},
   "source": [
    "## Define a wrapper for Cash Karp"
   ]
  },
  {
   "cell_type": "code",
   "execution_count": 34,
   "id": "67f50627",
   "metadata": {},
   "outputs": [],
   "source": [
    "def cash_karp_mv(dfdx, a, b, y_a, tol):\n",
    "    \n",
    "    #dfdx is the derivative wrt x\n",
    "    #a is the lower bound\n",
    "    #b is the upper bound\n",
    "    #y_a are the boundary conditions\n",
    "    #tol is the tolerance for integrating y\n",
    "    \n",
    "    #define our starting step\n",
    "    xi = a\n",
    "    yi = y_a.copy()\n",
    "    \n",
    "    #an initial step size == make very teeny weeny!\n",
    "    h = 1.0e-4 * (b-a)\n",
    "    \n",
    "    #set a maximum number of iterations\n",
    "    imax = 1000\n",
    "    \n",
    "    #set an iteration variable\n",
    "    i = 0\n",
    "    \n",
    "    #set the number of coupled odes to the size of y_a\n",
    "    nv = len(y_a)\n",
    "    \n",
    "    #set the intial conditions\n",
    "    x = np.full(1, a)\n",
    "    y = np.full((1, nv), y_a)\n",
    "    \n",
    "    #set a flag\n",
    "    flag = 1\n",
    "    \n",
    "    #loop until we reach the right side\n",
    "    while(flag):\n",
    "        \n",
    "        #calculate y_i+1\n",
    "        y_ipo, h_new, h_step = cash_karp_mv_ad(dfdx, xi, yi, nv, h, tol)\n",
    "        \n",
    "        #update the step\n",
    "        h = h_new\n",
    "        \n",
    "        #prevent an overshoot\n",
    "        if(xi + h_step > b):\n",
    "            #take a smaller step\n",
    "            h = b-xi\n",
    "            \n",
    "            #recalculate y_i + 1\n",
    "            y_ipo, h_new, h_step = cash_karp_mv_ad(dfdx, xi, yi, nv, h, tol)\n",
    "            \n",
    "            #break\n",
    "            flag = 0\n",
    "            \n",
    "        #update values\n",
    "        xi += h_step\n",
    "        yi = y_ipo.copy()\n",
    "        \n",
    "        #add the step to the arrays\n",
    "        x = np.append(x, xi)\n",
    "        y_ipo = np.zeros((len(x), nv))\n",
    "        y_ipo[0:len(x) - 1, :] = y[:]\n",
    "        y_ipo[-1, :] = yi[:]\n",
    "        del y\n",
    "        y = y_ipo\n",
    "        \n",
    "        #prevent too many iterations\n",
    "        if(i >= imax):\n",
    "            print(\"Maximum iterations reached.\")\n",
    "            raise StopIteration(\"Iteration number = \", i)\n",
    "            \n",
    "        #iterate\n",
    "        i += 1\n",
    "        \n",
    "        #output some information\n",
    "        s = \"i = %3d\\tx = %9.8f\\ty = %9.8f\\th = %9.8f\\tb=%9.8f\" % (i, xi, yi[0], h_step, b)\n",
    "        print(s)\n",
    "        \n",
    "        #break if new xi is == b\n",
    "        if(xi == b):\n",
    "            flag = 0\n",
    "            \n",
    "    #return the answer\n",
    "    return x,y"
   ]
  },
  {
   "cell_type": "markdown",
   "id": "9977396f",
   "metadata": {},
   "source": [
    "## Perform the integration"
   ]
  },
  {
   "cell_type": "code",
   "execution_count": 35,
   "id": "2f6db002",
   "metadata": {},
   "outputs": [
    {
     "data": {
      "text/plain": [
       "<matplotlib.legend.Legend at 0x1b05d3058e0>"
      ]
     },
     "execution_count": 35,
     "metadata": {},
     "output_type": "execute_result"
    },
    {
     "data": {
      "image/png": "[encoded data removed]",
      "text/plain": [
       "<Figure size 432x288 with 1 Axes>"
      ]
     },
     "metadata": {
      "needs_background": "light"
     },
     "output_type": "display_data"
    }
   ],
   "source": [
    "a = 0.0\n",
    "b = 2.0 * np.pi\n",
    "\n",
    "y_0 = np.zeros(2)\n",
    "y_0[0] = 0.0\n",
    "y_0[1] = 1.0\n",
    "nv = 2\n",
    "\n",
    "tolerance = 1.0e-6\n",
    "\n",
    "#perform the integration\n",
    "x,y = cash_karp_mv(dfdx, a, b, y_0, tolerance)\n",
    "plt.plot(x, y[:,0], 'o', label='y(x)')\n",
    "plt.plot(x, y[:,1], 'o', label='z(x)')\n",
    "plt.plot(x, np.sin(x), label='sin(x)')\n",
    "plt.plot(x, np.cos(x), label='cos(x)')\n",
    "plt.xlabel('x')\n",
    "plt.ylabel('y, dy/dx')\n",
    "plt.xlim([0, 2*np.pi])\n",
    "plt.ylim([-1.2, 1.2])\n",
    "plt.legend(frameon=False)"
   ]
  },
  {
   "cell_type": "code",
   "execution_count": 36,
   "id": "fa148506",
   "metadata": {},
   "outputs": [
    {
     "data": {
      "text/plain": [
       "<matplotlib.legend.Legend at 0x1b05f422370>"
      ]
     },
     "execution_count": 36,
     "metadata": {},
     "output_type": "execute_result"
    },
    {
     "data": {
      "image/png": "[encoded data removed]",
      "text/plain": [
       "<Figure size 432x288 with 1 Axes>"
      ]
     },
     "metadata": {
      "needs_background": "light"
     },
     "output_type": "display_data"
    }
   ],
   "source": [
    "sine = np.sin(x)\n",
    "cosine = np.cos(x)\n",
    "\n",
    "y_error = (y[:, 0] - sine)\n",
    "dydx_error = (y[:, 1] - cosine)\n",
    "\n",
    "plt.plot(x, y_error, label=\"y(x) Error\")\n",
    "plt.plot(x, dydx_error, label=\"dfdx(x) Error\")\n",
    "plt.legend(frameon=False)"
   ]
  },
  {
   "cell_type": "code",
   "execution_count": null,
   "id": "69d55b9d",
   "metadata": {},
   "outputs": [],
   "source": []
  },
  {
   "cell_type": "code",
   "execution_count": null,
   "id": "9c76c572",
   "metadata": {},
   "outputs": [],
   "source": []
  }
 ],
 "metadata": {
  "kernelspec": {
   "display_name": "Python 3 (ipykernel)",
   "language": "python",
   "name": "python3"
  },
  "language_info": {
   "codemirror_mode": {
    "name": "ipython",
    "version": 3
   },
   "file_extension": ".py",
   "mimetype": "text/x-python",
   "name": "python",
   "nbconvert_exporter": "python",
   "pygments_lexer": "ipython3",
   "version": "3.9.5"
  }
 },
 "nbformat": 4,
 "nbformat_minor": 5
}
