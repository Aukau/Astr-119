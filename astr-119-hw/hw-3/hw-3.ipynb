{
 "cells": [
  {
   "cell_type": "code",
   "execution_count": null,
   "id": "8334e786",
   "metadata": {},
   "outputs": [],
   "source": [
    "import numpy as np\n",
    "import matplotlib.pyplot as plt\n",
    "import math as math"
   ]
  },
  {
   "cell_type": "code",
   "execution_count": null,
   "id": "3ab7fd0c",
   "metadata": {},
   "outputs": [],
   "source": [
    "x = np.arange(1, 2*math.pi, 0.001)\n",
    "y = [-1, 10]"
   ]
  },
  {
   "cell_type": "code",
   "execution_count": null,
   "id": "d3aa0687",
   "metadata": {},
   "outputs": [],
   "source": [
    "y = 5.5 * np.cos(2*x) + 5.5\n",
    "plt.plot(x,y)\n",
    "y = 0.02 * np.exp(x)\n",
    "plt.plot(x,y)\n",
    "y = 0.25 * x**2  + 0.1*np.sin(10 * x)\n",
    "plt.plot(x,y)\n",
    "plt.xlabel('Time in Astro-119')\n",
    "plt.ylabel('Levels of Awesomeness')\n",
    "plt.show()"
   ]
  },
  {
   "cell_type": "code",
   "execution_count": null,
   "id": "94859be8",
   "metadata": {},
   "outputs": [],
   "source": []
  }
 ],
 "metadata": {
  "kernelspec": {
   "display_name": "Python 3 (ipykernel)",
   "language": "python",
   "name": "python3"
  },
  "language_info": {
   "codemirror_mode": {
    "name": "ipython",
    "version": 3
   },
   "file_extension": ".py",
   "mimetype": "text/x-python",
   "name": "python",
   "nbconvert_exporter": "python",
   "pygments_lexer": "ipython3",
   "version": "3.9.7"
  }
 },
 "nbformat": 4,
 "nbformat_minor": 5
}
